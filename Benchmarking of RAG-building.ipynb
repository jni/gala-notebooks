{
 "cells": [
  {
   "cell_type": "code",
   "execution_count": 1,
   "metadata": {
    "collapsed": true
   },
   "outputs": [],
   "source": [
    "import numpy as np\n",
    "from gala import agglo, agglo2, imio"
   ]
  },
  {
   "cell_type": "code",
   "execution_count": 2,
   "metadata": {
    "collapsed": false
   },
   "outputs": [
    {
     "name": "stdout",
     "output_type": "stream",
     "text": [
      "/Volumes/Projects/gala/tests/example-data\n"
     ]
    }
   ],
   "source": [
    "%cd ~/projects/gala/tests/example-data/"
   ]
  },
  {
   "cell_type": "code",
   "execution_count": 5,
   "metadata": {
    "collapsed": false
   },
   "outputs": [
    {
     "name": "stdout",
     "output_type": "stream",
     "text": [
      "example.py                         test-p1.lzf.h5\r\n",
      "naive-bayes-1.joblib               test-p4.lzf.h5\r\n",
      "naive-bayes-1.joblib_01.npy        test-seg-1.lzf.h5\r\n",
      "naive-bayes-1.joblib_02.npy        test-seg-4.lzf.h5\r\n",
      "naive-bayes-1.joblib_03.npy        test-seg1.lzf.h5\r\n",
      "naive-bayes-1.joblib_04.npy        test-seg4.lzf.h5\r\n",
      "naive-bayes-4.joblib               test-ws.lzf.h5\r\n",
      "naive-bayes-4.joblib_01.npy        train-gt.lzf.h5\r\n",
      "naive-bayes-4.joblib_02.npy        \u001b[36mtrain-image-png\u001b[m\u001b[m/\r\n",
      "naive-bayes-4.joblib_03.npy        train-image.h5\r\n",
      "naive-bayes-4.joblib_04.npy        train-naive-bayes-merges1-py3.pck\r\n",
      "rf-1.joblib                        train-naive-bayes-merges4-py3.pck\r\n",
      "rf-4.joblib                        train-p1.lzf.h5\r\n",
      "rf1-py3.joblib.tar.gz              train-p4.lzf.h5\r\n",
      "rf4-py3.joblib.tar.gz              train-set-1.npz\r\n",
      "\u001b[36msnemi-mini\u001b[m\u001b[m/                        train-set-4.npz\r\n",
      "test-gt.lzf.h5                     train-ws.lzf.h5\r\n",
      "\u001b[36mtest-image-png\u001b[m\u001b[m/                    vi-results.npy\r\n",
      "test-image.h5\r\n"
     ]
    }
   ],
   "source": [
    "%ls"
   ]
  },
  {
   "cell_type": "code",
   "execution_count": 6,
   "metadata": {
    "collapsed": true
   },
   "outputs": [],
   "source": [
    "ws = imio.read_image_stack('train-ws.lzf.h5')\n",
    "gt = imio.read_image_stack('train-gt.lzf.h5')\n",
    "pr = imio.read_image_stack('train-p1.lzf.h5')"
   ]
  },
  {
   "cell_type": "code",
   "execution_count": 7,
   "metadata": {
    "collapsed": false
   },
   "outputs": [
    {
     "name": "stdout",
     "output_type": "stream",
     "text": [
      "10 loops, best of 3: 87.9 ms per loop\n"
     ]
    }
   ],
   "source": [
    "%timeit g = agglo2.Rag(ws)"
   ]
  },
  {
   "cell_type": "code",
   "execution_count": 8,
   "metadata": {
    "collapsed": false
   },
   "outputs": [
    {
     "name": "stdout",
     "output_type": "stream",
     "text": [
      "1 loops, best of 3: 8.85 s per loop\n"
     ]
    }
   ],
   "source": [
    "%timeit g = agglo.Rag(ws)"
   ]
  },
  {
   "cell_type": "code",
   "execution_count": null,
   "metadata": {
    "collapsed": true
   },
   "outputs": [],
   "source": []
  }
 ],
 "metadata": {
  "kernelspec": {
   "display_name": "Python 3",
   "language": "python",
   "name": "python3"
  },
  "language_info": {
   "codemirror_mode": {
    "name": "ipython",
    "version": 3
   },
   "file_extension": ".py",
   "mimetype": "text/x-python",
   "name": "python",
   "nbconvert_exporter": "python",
   "pygments_lexer": "ipython3",
   "version": "3.5.1"
  }
 },
 "nbformat": 4,
 "nbformat_minor": 0
}
